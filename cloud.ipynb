{
 "cells": [
  {
   "cell_type": "code",
   "execution_count": 2,
   "metadata": {},
   "outputs": [
    {
     "name": "stdout",
     "output_type": "stream",
     "text": [
      "Image successfully downloaded and saved to downloaded_image.jpg\n"
     ]
    }
   ],
   "source": [
    "import requests\n",
    "\n",
    "def download_image(url, save_path):\n",
    "    try:\n",
    "        # Send a GET request to the URL\n",
    "        response = requests.get(url)\n",
    "        \n",
    "        # Check if the request was successful\n",
    "        if response.status_code == 200:\n",
    "            # Open the save path in write-binary mode and write the content to the file\n",
    "            with open(save_path, 'wb') as file:\n",
    "                file.write(response.content)\n",
    "            print(f\"Image successfully downloaded and saved to {save_path}\")\n",
    "        else:\n",
    "            print(f\"Failed to retrieve image. Status code: {response.status_code}\")\n",
    "    except Exception as e:\n",
    "        print(f\"An error occurred: {e}\")\n",
    "\n",
    "# URL of the image\n",
    "image_url = \"https://www.appsheet.com/template/gettablefileurl?appName=SabiMarketAgentApp-992928144&tableName=PROJECT%2050K&fileName=Project%2050k_Images%2F971448cd.Product%20Image.124323.jpg\"\n",
    "\n",
    "# Path where the image will be saved\n",
    "save_path = \"downloaded_image.jpg\"\n",
    "\n",
    "# Call the function to download the image\n",
    "download_image(image_url, save_path)\n"
   ]
  },
  {
   "cell_type": "code",
   "execution_count": 10,
   "metadata": {},
   "outputs": [
    {
     "name": "stdout",
     "output_type": "stream",
     "text": [
      "<img src=\"https://res.cloudinary.com/dmb7hhij5/image/upload/b_rgb:FFFFFF,c_pad,g_center,h_700,w_1370/co_rgb:FFFFFF,l_text:georgia_71_bold_left:X56/b_rgb:00350C/fl_layer_apply,g_east,x_0.2/hhnms5jkhbyf93apeovl\"/>\n"
     ]
    }
   ],
   "source": [
    "import cloudinary\n",
    "import cloudinary.uploader\n",
    "import cloudinary.api\n",
    "from cloudinary.utils import cloudinary_url\n",
    "\n",
    "# Configuration\n",
    "cloudinary.config(\n",
    "    cloud_name=\"dmb7hhij5\",\n",
    "    api_key=\"755959593224211\",\n",
    "    api_secret=\"ZIgE-QyRGZir4eksTagnFDlMrSw\",\n",
    "    secure=True\n",
    ")\n",
    "\n",
    "def upload_and_transform_image(image_url, qty):\n",
    "    # Upload the image to Cloudinary\n",
    "    upload_result = cloudinary.uploader.upload(image_url)\n",
    "    \n",
    "    # Get the public ID of the uploaded image\n",
    "    public_id = upload_result[\"public_id\"]\n",
    "    \n",
    "    # Apply transformations\n",
    "    transformed_url = cloudinary.CloudinaryImage(public_id).image(transformation=[\n",
    "        {'background': \"#FFFFFF\", 'gravity': \"center\", 'height': 700, 'width': 1370, 'crop': \"pad\"},\n",
    "        {'color': \"#FFFFFF\", 'overlay': {'font_family': \"georgia\", 'font_size': 71, 'font_weight': \"bold\", 'text_align': \"left\", 'text': f\"X{qty}\"}},\n",
    "        {'background': \"#00350C\"},\n",
    "        {'flags': \"layer_apply\", 'gravity': \"east\", 'x': \"0.2\"}\n",
    "    ])\n",
    "\n",
    "    return transformed_url\n",
    "\n",
    "# Example usage\n",
    "image_url = \"downloaded_image.jpg\"\n",
    "quantity = 56  # Dynamic quantity\n",
    "transformed_image_url = upload_and_transform_image(image_url, quantity)\n",
    "print(transformed_image_url)\n"
   ]
  }
 ],
 "metadata": {
  "kernelspec": {
   "display_name": "Python 3",
   "language": "python",
   "name": "python3"
  },
  "language_info": {
   "codemirror_mode": {
    "name": "ipython",
    "version": 3
   },
   "file_extension": ".py",
   "mimetype": "text/x-python",
   "name": "python",
   "nbconvert_exporter": "python",
   "pygments_lexer": "ipython3",
   "version": "3.11.5"
  }
 },
 "nbformat": 4,
 "nbformat_minor": 2
}
